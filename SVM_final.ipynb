{
 "cells": [
  {
   "cell_type": "code",
   "execution_count": 1,
   "id": "capital-microphone",
   "metadata": {},
   "outputs": [],
   "source": [
    "import numpy as np\n",
    "import pandas as pd\n",
    "import matplotlib.pyplot as plt\n",
    "import seaborn as sb\n",
    "%matplotlib inline"
   ]
  },
  {
   "cell_type": "code",
   "execution_count": 2,
   "id": "generous-publication",
   "metadata": {},
   "outputs": [
    {
     "name": "stdout",
     "output_type": "stream",
     "text": [
      "0.9484\n",
      "[0 0 0 ... 0 0 0]\n",
      "[[14223    21]\n",
      " [  753     3]]\n",
      "              precision    recall  f1-score   support\n",
      "\n",
      "           0       0.95      1.00      0.97     14244\n",
      "           1       0.12      0.00      0.01       756\n",
      "\n",
      "    accuracy                           0.95     15000\n",
      "   macro avg       0.54      0.50      0.49     15000\n",
      "weighted avg       0.91      0.95      0.92     15000\n",
      "\n"
     ]
    }
   ],
   "source": [
    "#Data with smaller Datasize and less factors\n",
    "dfit=pd.read_csv('dataset.csv')\n",
    "import numpy as np\n",
    "from sklearn.model_selection import train_test_split\n",
    "from sklearn.svm import SVC\n",
    "x=dfit.iloc[:,2:9]\n",
    "y=dfit[\"click\"]\n",
    "x_train,x_test,y_train,y_test=train_test_split(x,y,test_size=0.5,random_state=10)\n",
    "claf = SVC(kernel='rbf', C=10,random_state=3,gamma=0.01).fit(x_train, y_train)\n",
    "print(claf.score(x_test, y_test))\n",
    "predictions=claf.predict(x_test)\n",
    "print(predictions)\n",
    "from sklearn.metrics import classification_report,confusion_matrix\n",
    "print(confusion_matrix(y_test,predictions))\n",
    "print(classification_report(y_test,predictions))"
   ]
  },
  {
   "cell_type": "code",
   "execution_count": 3,
   "id": "absent-argument",
   "metadata": {},
   "outputs": [],
   "source": [
    "#A larger Dataset with more factors lik btag\n",
    "finaldata=pd.read_csv(\"final_dataset.csv\")"
   ]
  },
  {
   "cell_type": "code",
   "execution_count": 4,
   "id": "decent-disorder",
   "metadata": {},
   "outputs": [
    {
     "name": "stdout",
     "output_type": "stream",
     "text": [
      "0.9569722222222222\n",
      "[0 0 0 ... 0 0 0]\n",
      "[[33604   349]\n",
      " [ 1200   847]]\n",
      "              precision    recall  f1-score   support\n",
      "\n",
      "           0       0.97      0.99      0.98     33953\n",
      "           1       0.71      0.41      0.52      2047\n",
      "\n",
      "    accuracy                           0.96     36000\n",
      "   macro avg       0.84      0.70      0.75     36000\n",
      "weighted avg       0.95      0.96      0.95     36000\n",
      "\n"
     ]
    }
   ],
   "source": [
    "#without btag factor\n",
    "import numpy as np\n",
    "from sklearn.model_selection import train_test_split\n",
    "from sklearn.svm import SVC\n",
    "y=finaldata['click']\n",
    "x=finaldata[['ad_position_type','cms_group_id','gender','age_level','shopping_level','occupation','new_user_class_level','price','cate']]\n",
    "x_train,x_test,y_train,y_test=train_test_split(x,y,test_size=0.6,random_state=10)\n",
    "claf = SVC(kernel='rbf', C=10,random_state=3,gamma=0.1).fit(x_train, y_train)\n",
    "print(claf.score(x_test, y_test))\n",
    "y_prediction=claf.predict(x_test)\n",
    "print(y_prediction)\n",
    "from sklearn.metrics import classification_report,confusion_matrix\n",
    "print(confusion_matrix(y_test,y_prediction))\n",
    "print(classification_report(y_test,y_prediction))"
   ]
  },
  {
   "cell_type": "code",
   "execution_count": 5,
   "id": "simplified-graduate",
   "metadata": {},
   "outputs": [
    {
     "name": "stdout",
     "output_type": "stream",
     "text": [
      "0.9563055555555555\n",
      "[0 0 0 ... 0 0 0]\n",
      "[[33587   366]\n",
      " [ 1207   840]]\n",
      "              precision    recall  f1-score   support\n",
      "\n",
      "           0       0.97      0.99      0.98     33953\n",
      "           1       0.70      0.41      0.52      2047\n",
      "\n",
      "    accuracy                           0.96     36000\n",
      "   macro avg       0.83      0.70      0.75     36000\n",
      "weighted avg       0.95      0.96      0.95     36000\n",
      "\n"
     ]
    }
   ],
   "source": [
    "#with all factors\n",
    "import numpy as np\n",
    "from sklearn.model_selection import train_test_split\n",
    "from sklearn.svm import SVC\n",
    "y=finaldata['click']\n",
    "x=finaldata[['ad_position_type','cms_group_id','gender','age_level','shopping_level','occupation','new_user_class_level','price','btag','cate']]\n",
    "\n",
    "x_train,x_test,y_train,y_test=train_test_split(x,y,test_size=0.6,random_state=10)\n",
    "claf = SVC(kernel='rbf', C=10,random_state=3,gamma=0.1).fit(x_train, y_train)\n",
    "print(claf.score(x_test, y_test))\n",
    "y_prediction=claf.predict(x_test)\n",
    "print(y_prediction)\n",
    "from sklearn.metrics import classification_report,confusion_matrix\n",
    "print(confusion_matrix(y_test,y_prediction))\n",
    "print(classification_report(y_test,y_prediction))"
   ]
  },
  {
   "cell_type": "code",
   "execution_count": 6,
   "id": "growing-mainland",
   "metadata": {},
   "outputs": [
    {
     "name": "stdout",
     "output_type": "stream",
     "text": [
      "0.9568611111111112\n",
      "[0 0 0 ... 0 0 0]\n",
      "[[33623   330]\n",
      " [ 1223   824]]\n",
      "              precision    recall  f1-score   support\n",
      "\n",
      "           0       0.96      0.99      0.98     33953\n",
      "           1       0.71      0.40      0.51      2047\n",
      "\n",
      "    accuracy                           0.96     36000\n",
      "   macro avg       0.84      0.70      0.75     36000\n",
      "weighted avg       0.95      0.96      0.95     36000\n",
      "\n"
     ]
    }
   ],
   "source": [
    "#with optimized gamma=0.36806342015855037\n",
    "import numpy as np\n",
    "from sklearn.model_selection import train_test_split\n",
    "from sklearn.svm import SVC\n",
    "y=finaldata['click']\n",
    "x=finaldata[['ad_position_type','cms_group_id','gender','age_level','shopping_level','occupation','new_user_class_level','price','btag','cate']]\n",
    "\n",
    "x_train,x_test,y_train,y_test=train_test_split(x,y,test_size=0.6,random_state=10)\n",
    "claf = SVC(kernel='rbf', C=10,random_state=3,gamma=0.36806342015855037).fit(x_train, y_train)\n",
    "print(claf.score(x_test, y_test))\n",
    "y_prediction=claf.predict(x_test)\n",
    "print(y_prediction)\n",
    "from sklearn.metrics import classification_report,confusion_matrix\n",
    "print(confusion_matrix(y_test,y_prediction))\n",
    "print(classification_report(y_test,y_prediction))\n"
   ]
  },
  {
   "cell_type": "code",
   "execution_count": 7,
   "id": "individual-cylinder",
   "metadata": {},
   "outputs": [
    {
     "data": {
      "text/plain": [
       "array([[ 1.3580412 ,  0.7062393 , -1.31650063, ..., -0.10674667,\n",
       "        -0.1966049 ,  0.36999569],\n",
       "       [-0.73635469, -1.3070676 ,  0.75958946, ..., -0.11593714,\n",
       "        -0.1966049 , -2.3295453 ],\n",
       "       [-0.73635469,  1.28146984, -1.31650063, ..., -0.10714625,\n",
       "        -0.1966049 ,  0.29314207],\n",
       "       ...,\n",
       "       [ 1.3580412 , -0.44422179,  0.75958946, ...,  2.18687594,\n",
       "        -0.1966049 ,  0.66544495],\n",
       "       [ 1.3580412 , -1.01945233,  0.75958946, ..., -0.14830359,\n",
       "        -0.1966049 ,  0.14863885],\n",
       "       [-0.73635469,  1.28146984, -1.31650063, ...,  0.32480602,\n",
       "        -0.1966049 ,  0.29314207]])"
      ]
     },
     "execution_count": 7,
     "metadata": {},
     "output_type": "execute_result"
    }
   ],
   "source": [
    "# Feature Scaling\n",
    "from sklearn.preprocessing import StandardScaler\n",
    "sc = StandardScaler()\n",
    "X_train = sc.fit_transform(x_train)\n",
    "X_test = sc.transform(x_test)\n",
    "X_train"
   ]
  },
  {
   "cell_type": "code",
   "execution_count": 8,
   "id": "steady-horse",
   "metadata": {},
   "outputs": [
    {
     "name": "stdout",
     "output_type": "stream",
     "text": [
      "       principal component 1  principal component 2  click\n",
      "0                  -0.340174               0.901279      0\n",
      "1                   2.027974              -0.167620      0\n",
      "2                  -2.075809              -0.396961      0\n",
      "3                  -2.071439              -0.386652      0\n",
      "4                   1.361101               2.383118      0\n",
      "...                      ...                    ...    ...\n",
      "23995               1.362682               2.386849      0\n",
      "23996               0.693238               0.802718      0\n",
      "23997               0.793865               1.815584      0\n",
      "23998               1.842529               1.246844      0\n",
      "23999              -2.062761              -0.366176      0\n",
      "\n",
      "[24000 rows x 3 columns]\n",
      "1322\n"
     ]
    },
    {
     "data": {
      "text/plain": [
       "[<matplotlib.lines.Line2D at 0x7f14e5950c40>]"
      ]
     },
     "execution_count": 8,
     "metadata": {},
     "output_type": "execute_result"
    },
    {
     "data": {
      "image/png": "[encoded data removed]",
      "text/plain": [
       "<Figure size 432x288 with 1 Axes>"
      ]
     },
     "metadata": {
      "needs_background": "light"
     },
     "output_type": "display_data"
    }
   ],
   "source": [
    "from sklearn.decomposition import PCA\n",
    "pca = PCA(n_components=2)\n",
    "principalComponents = pca.fit_transform(X_train)\n",
    "principalDf = pd.DataFrame(data = principalComponents\n",
    "             , columns = ['principal component 1', 'principal component 2'])\n",
    "\n",
    "y_train.index = range(0,len(y_train))    \n",
    "finalDf = pd.concat([principalDf, y_train], axis = 1)\n",
    "\n",
    "print(finalDf)\n",
    "print(sum(finalDf['click']))\n",
    "import matplotlib.pyplot as plt\n",
    "plt.plot(finalDf['principal component 1'],finalDf['principal component 2'],'o')"
   ]
  },
  {
   "cell_type": "code",
   "execution_count": 9,
   "id": "latest-creation",
   "metadata": {},
   "outputs": [
    {
     "data": {
      "text/plain": [
       "<seaborn.axisgrid.JointGrid at 0x7f14e79eec70>"
      ]
     },
     "execution_count": 9,
     "metadata": {},
     "output_type": "execute_result"
    },
    {
     "data": {
      "image/png": "[encoded data removed]",
      "text/plain": [
       "<Figure size 432x432 with 3 Axes>"
      ]
     },
     "metadata": {
      "needs_background": "light"
     },
     "output_type": "display_data"
    }
   ],
   "source": [
    "sb.jointplot(data=finalDf,x='principal component 1',y='principal component 2',hue='click')"
   ]
  },
  {
   "cell_type": "code",
   "execution_count": null,
   "id": "perfect-enclosure",
   "metadata": {},
   "outputs": [],
   "source": [
    "#我电脑跑不动，最好别跑\n",
    "from matplotlib.colors import ListedColormap\n",
    "x_set, y_set = principalComponents, y_train\n",
    "X1, X2 = np.meshgrid(np.arange(start = x_set[:, 0].min() - 1, stop = x_set[:, 0].max() + 1, step = 0.01),\n",
    "                     np.arange(start = x_set[:, 1].min() - 1, stop = x_set[:, 1].max() + 1, step = 0.01))\n",
    "Xpred = np.array([X1.ravel(), X2.ravel()] + [np.repeat(0, X1.ravel().size) for _ in range(8)]).T\n",
    "pred = claf.decision_function(Xpred).reshape(X1.shape)    \n",
    "plt.contour(X1, X2, pred,\n",
    "             alpha=1.0, cmap=ListedColormap(('red', 'green','blue')), levels=np.linspace(pred.min(), pred.max(), 100))\n",
    "plt.xlim(X1.min(), X1.max())\n",
    "plt.ylim(X2.min(), X2.max())\n",
    "for i, j in enumerate(np.unique(y_set)):\n",
    "    plt.scatter(x_set[y_set == j, 0], x_set[y_set == j, 1],\n",
    "                c = ListedColormap(('red', 'green'))(i), label = j)\n",
    "plt.title('SVM (Training set)')\n",
    "plt.xlabel('features')\n",
    "plt.ylabel('click')\n",
    "plt.legend()\n",
    "plt.show()"
   ]
  },
  {
   "cell_type": "code",
   "execution_count": null,
   "id": "hollow-pacific",
   "metadata": {},
   "outputs": [],
   "source": []
  },
  {
   "cell_type": "code",
   "execution_count": null,
   "id": "educated-belly",
   "metadata": {},
   "outputs": [],
   "source": []
  },
  {
   "cell_type": "code",
   "execution_count": 24,
   "id": "copyrighted-colon",
   "metadata": {},
   "outputs": [
    {
     "name": "stdout",
     "output_type": "stream",
     "text": [
      "0.9566111111111111\n",
      "[0 0 0 ... 0 0 0]\n",
      "[[16982    94]\n",
      " [  687   237]]\n",
      "              precision    recall  f1-score   support\n",
      "\n",
      "           0       0.96      0.99      0.98     17076\n",
      "           1       0.72      0.26      0.38       924\n",
      "\n",
      "    accuracy                           0.96     18000\n",
      "   macro avg       0.84      0.63      0.68     18000\n",
      "weighted avg       0.95      0.96      0.95     18000\n",
      "\n"
     ]
    }
   ],
   "source": [
    "#smaller size data without 'btag','cate','ad_position'\n",
    "smallfinaldata=finaldata.iloc[1:30000,:]\n",
    "y=smallfinaldata['click']\n",
    "x=smallfinaldata[['cms_group_id','gender','age_level','shopping_level','occupation','new_user_class_level','price']]\n",
    "x_train,x_test,y_train,y_test=train_test_split(x,y,test_size=0.6,random_state=10)\n",
    "claf = SVC(kernel='rbf', C=10,random_state=3,gamma=0.1).fit(x_train, y_train)\n",
    "print(claf.score(x_test, y_test))\n",
    "y_prediction=claf.predict(x_test)\n",
    "print(y_prediction)\n",
    "from sklearn.metrics import classification_report,confusion_matrix\n",
    "print(confusion_matrix(y_test,y_prediction))\n",
    "print(classification_report(y_test,y_prediction))"
   ]
  },
  {
   "cell_type": "code",
   "execution_count": 28,
   "id": "greater-melbourne",
   "metadata": {},
   "outputs": [
    {
     "name": "stdout",
     "output_type": "stream",
     "text": [
      "0.9486666666666667\n",
      "[0 0 0 ... 0 0 0]\n",
      "[[17076     0]\n",
      " [  924     0]]\n",
      "              precision    recall  f1-score   support\n",
      "\n",
      "           0       0.95      1.00      0.97     17076\n",
      "           1       0.00      0.00      0.00       924\n",
      "\n",
      "    accuracy                           0.95     18000\n",
      "   macro avg       0.47      0.50      0.49     18000\n",
      "weighted avg       0.90      0.95      0.92     18000\n",
      "\n"
     ]
    },
    {
     "name": "stderr",
     "output_type": "stream",
     "text": [
      "/opt/conda/lib/python3.8/site-packages/sklearn/metrics/_classification.py:1245: UndefinedMetricWarning: Precision and F-score are ill-defined and being set to 0.0 in labels with no predicted samples. Use `zero_division` parameter to control this behavior.\n",
      "  _warn_prf(average, modifier, msg_start, len(result))\n",
      "/opt/conda/lib/python3.8/site-packages/sklearn/metrics/_classification.py:1245: UndefinedMetricWarning: Precision and F-score are ill-defined and being set to 0.0 in labels with no predicted samples. Use `zero_division` parameter to control this behavior.\n",
      "  _warn_prf(average, modifier, msg_start, len(result))\n",
      "/opt/conda/lib/python3.8/site-packages/sklearn/metrics/_classification.py:1245: UndefinedMetricWarning: Precision and F-score are ill-defined and being set to 0.0 in labels with no predicted samples. Use `zero_division` parameter to control this behavior.\n",
      "  _warn_prf(average, modifier, msg_start, len(result))\n"
     ]
    }
   ],
   "source": [
    "#with only 'age_level','shopping_level','occupation','new_user_class_level' factor\n",
    "smallfinaldata=finaldata.iloc[1:30000,:]\n",
    "y=smallfinaldata['click']\n",
    "x=smallfinaldata[['age_level','shopping_level','occupation','new_user_class_level']]\n",
    "x_train,x_test,y_train,y_test=train_test_split(x,y,test_size=0.6,random_state=10)\n",
    "claf = SVC(kernel='rbf', C=10,random_state=3,gamma=0.1).fit(x_train, y_train)\n",
    "print(claf.score(x_test, y_test))\n",
    "y_prediction=claf.predict(x_test)\n",
    "print(y_prediction)\n",
    "from sklearn.metrics import classification_report,confusion_matrix\n",
    "print(confusion_matrix(y_test,y_prediction))\n",
    "print(classification_report(y_test,y_prediction))"
   ]
  },
  {
   "cell_type": "code",
   "execution_count": 26,
   "id": "scenic-sequence",
   "metadata": {},
   "outputs": [
    {
     "name": "stdout",
     "output_type": "stream",
     "text": [
      "0.9558888888888889\n",
      "[0 0 0 ... 0 0 0]\n",
      "[[16992    84]\n",
      " [  710   214]]\n",
      "              precision    recall  f1-score   support\n",
      "\n",
      "           0       0.96      1.00      0.98     17076\n",
      "           1       0.72      0.23      0.35       924\n",
      "\n",
      "    accuracy                           0.96     18000\n",
      "   macro avg       0.84      0.61      0.66     18000\n",
      "weighted avg       0.95      0.96      0.94     18000\n",
      "\n"
     ]
    }
   ],
   "source": [
    "#add price factor\n",
    "smallfinaldata=finaldata.iloc[1:30000,:]\n",
    "y=smallfinaldata['click']\n",
    "x=smallfinaldata[['age_level','shopping_level','occupation','new_user_class_level','price']]\n",
    "x_train,x_test,y_train,y_test=train_test_split(x,y,test_size=0.6,random_state=10)\n",
    "claf = SVC(kernel='rbf', C=10,random_state=3,gamma=0.1).fit(x_train, y_train)\n",
    "print(claf.score(x_test, y_test))\n",
    "y_prediction=claf.predict(x_test)\n",
    "print(y_prediction)\n",
    "from sklearn.metrics import classification_report,confusion_matrix\n",
    "print(confusion_matrix(y_test,y_prediction))\n",
    "print(classification_report(y_test,y_prediction))"
   ]
  },
  {
   "cell_type": "code",
   "execution_count": null,
   "id": "increased-horror",
   "metadata": {},
   "outputs": [],
   "source": []
  }
 ],
 "metadata": {
  "kernelspec": {
   "display_name": "Python 3",
   "language": "python",
   "name": "python3"
  },
  "language_info": {
   "codemirror_mode": {
    "name": "ipython",
    "version": 3
   },
   "file_extension": ".py",
   "mimetype": "text/x-python",
   "name": "python",
   "nbconvert_exporter": "python",
   "pygments_lexer": "ipython3",
   "version": "3.8.6"
  }
 },
 "nbformat": 4,
 "nbformat_minor": 5
}
