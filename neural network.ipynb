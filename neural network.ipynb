{
 "cells": [
  {
   "cell_type": "code",
   "execution_count": 3,
   "metadata": {},
   "outputs": [],
   "source": [
    "import numpy as np\n",
    "import pandas as pd\n",
    "data=pd.read_csv('final_dataset.csv')\n",
    "y=data['click']\n",
    "x=data[['ad_position_type','cms_group_id','gender','age_level','shopping_level','occupation','new_user_class_level','price','btag','cate']]"
   ]
  },
  {
   "cell_type": "code",
   "execution_count": 4,
   "metadata": {},
   "outputs": [],
   "source": [
    "# separate the dataset into training and testing sets\n",
    "from sklearn.model_selection import train_test_split\n",
    "x_train, x_test, y_train, y_test = train_test_split(x, y, test_size = 0.25, random_state = 0)"
   ]
  },
  {
   "cell_type": "code",
   "execution_count": 16,
   "metadata": {},
   "outputs": [
    {
     "name": "stdout",
     "output_type": "stream",
     "text": [
      "Requirement already satisfied: keras in c:\\anaconda\\lib\\site-packages (2.4.3)\n",
      "Requirement already satisfied: scipy>=0.14 in c:\\anaconda\\lib\\site-packages (from keras) (1.5.2)\n",
      "Requirement already satisfied: numpy>=1.9.1 in c:\\anaconda\\lib\\site-packages (from keras) (1.19.2)\n",
      "Requirement already satisfied: pyyaml in c:\\anaconda\\lib\\site-packages (from keras) (5.3.1)\n",
      "Requirement already satisfied: h5py in c:\\anaconda\\lib\\site-packages (from keras) (3.1.0)\n",
      "Requirement already satisfied: Tensorflow in c:\\anaconda\\lib\\site-packages (2.5.0)\n",
      "Requirement already satisfied: flatbuffers~=1.12.0 in c:\\anaconda\\lib\\site-packages (from Tensorflow) (1.12)\n",
      "Requirement already satisfied: six~=1.15.0 in c:\\anaconda\\lib\\site-packages (from Tensorflow) (1.15.0)\n",
      "Requirement already satisfied: wheel~=0.35 in c:\\anaconda\\lib\\site-packages (from Tensorflow) (0.35.1)\n",
      "Requirement already satisfied: typing-extensions~=3.7.4 in c:\\anaconda\\lib\\site-packages (from Tensorflow) (3.7.4.3)\n",
      "Requirement already satisfied: numpy~=1.19.2 in c:\\anaconda\\lib\\site-packages (from Tensorflow) (1.19.2)\n",
      "Requirement already satisfied: termcolor~=1.1.0 in c:\\anaconda\\lib\\site-packages (from Tensorflow) (1.1.0)\n",
      "Requirement already satisfied: google-pasta~=0.2 in c:\\anaconda\\lib\\site-packages (from Tensorflow) (0.2.0)\n",
      "Requirement already satisfied: keras-nightly~=2.5.0.dev in c:\\anaconda\\lib\\site-packages (from Tensorflow) (2.5.0.dev2021032900)\n",
      "Requirement already satisfied: protobuf>=3.9.2 in c:\\anaconda\\lib\\site-packages (from Tensorflow) (3.17.3)\n",
      "Requirement already satisfied: opt-einsum~=3.3.0 in c:\\anaconda\\lib\\site-packages (from Tensorflow) (3.3.0)\n",
      "Requirement already satisfied: tensorboard~=2.5 in c:\\anaconda\\lib\\site-packages (from Tensorflow) (2.5.0)\n",
      "Requirement already satisfied: gast==0.4.0 in c:\\anaconda\\lib\\site-packages (from Tensorflow) (0.4.0)\n",
      "Requirement already satisfied: astunparse~=1.6.3 in c:\\anaconda\\lib\\site-packages (from Tensorflow) (1.6.3)\n",
      "Requirement already satisfied: keras-preprocessing~=1.1.2 in c:\\anaconda\\lib\\site-packages (from Tensorflow) (1.1.2)\n",
      "Requirement already satisfied: wrapt~=1.12.1 in c:\\anaconda\\lib\\site-packages (from Tensorflow) (1.12.1)\n",
      "Requirement already satisfied: grpcio~=1.34.0 in c:\\anaconda\\lib\\site-packages (from Tensorflow) (1.34.1)\n",
      "Requirement already satisfied: tensorflow-estimator<2.6.0,>=2.5.0rc0 in c:\\anaconda\\lib\\site-packages (from Tensorflow) (2.5.0)\n",
      "Requirement already satisfied: h5py~=3.1.0 in c:\\anaconda\\lib\\site-packages (from Tensorflow) (3.1.0)\n",
      "Requirement already satisfied: absl-py~=0.10 in c:\\anaconda\\lib\\site-packages (from Tensorflow) (0.12.0)\n",
      "Requirement already satisfied: markdown>=2.6.8 in c:\\anaconda\\lib\\site-packages (from tensorboard~=2.5->Tensorflow) (3.3.4)\n",
      "Requirement already satisfied: requests<3,>=2.21.0 in c:\\anaconda\\lib\\site-packages (from tensorboard~=2.5->Tensorflow) (2.24.0)\n",
      "Requirement already satisfied: setuptools>=41.0.0 in c:\\anaconda\\lib\\site-packages (from tensorboard~=2.5->Tensorflow) (50.3.1.post20201107)\n",
      "Requirement already satisfied: tensorboard-plugin-wit>=1.6.0 in c:\\anaconda\\lib\\site-packages (from tensorboard~=2.5->Tensorflow) (1.8.0)\n",
      "Requirement already satisfied: tensorboard-data-server<0.7.0,>=0.6.0 in c:\\anaconda\\lib\\site-packages (from tensorboard~=2.5->Tensorflow) (0.6.1)\n",
      "Requirement already satisfied: google-auth-oauthlib<0.5,>=0.4.1 in c:\\anaconda\\lib\\site-packages (from tensorboard~=2.5->Tensorflow) (0.4.4)\n",
      "Requirement already satisfied: werkzeug>=0.11.15 in c:\\anaconda\\lib\\site-packages (from tensorboard~=2.5->Tensorflow) (1.0.1)\n",
      "Requirement already satisfied: google-auth<2,>=1.6.3 in c:\\anaconda\\lib\\site-packages (from tensorboard~=2.5->Tensorflow) (1.31.0)\n",
      "Requirement already satisfied: certifi>=2017.4.17 in c:\\anaconda\\lib\\site-packages (from requests<3,>=2.21.0->tensorboard~=2.5->Tensorflow) (2020.6.20)\n",
      "Requirement already satisfied: urllib3!=1.25.0,!=1.25.1,<1.26,>=1.21.1 in c:\\anaconda\\lib\\site-packages (from requests<3,>=2.21.0->tensorboard~=2.5->Tensorflow) (1.25.11)\n",
      "Requirement already satisfied: chardet<4,>=3.0.2 in c:\\anaconda\\lib\\site-packages (from requests<3,>=2.21.0->tensorboard~=2.5->Tensorflow) (3.0.4)\n",
      "Requirement already satisfied: idna<3,>=2.5 in c:\\anaconda\\lib\\site-packages (from requests<3,>=2.21.0->tensorboard~=2.5->Tensorflow) (2.10)\n",
      "Requirement already satisfied: requests-oauthlib>=0.7.0 in c:\\anaconda\\lib\\site-packages (from google-auth-oauthlib<0.5,>=0.4.1->tensorboard~=2.5->Tensorflow) (1.3.0)\n",
      "Requirement already satisfied: cachetools<5.0,>=2.0.0 in c:\\anaconda\\lib\\site-packages (from google-auth<2,>=1.6.3->tensorboard~=2.5->Tensorflow) (4.2.2)\n",
      "Requirement already satisfied: rsa<5,>=3.1.4; python_version >= \"3.6\" in c:\\anaconda\\lib\\site-packages (from google-auth<2,>=1.6.3->tensorboard~=2.5->Tensorflow) (4.7.2)\n",
      "Requirement already satisfied: pyasn1-modules>=0.2.1 in c:\\anaconda\\lib\\site-packages (from google-auth<2,>=1.6.3->tensorboard~=2.5->Tensorflow) (0.2.8)\n",
      "Requirement already satisfied: oauthlib>=3.0.0 in c:\\anaconda\\lib\\site-packages (from requests-oauthlib>=0.7.0->google-auth-oauthlib<0.5,>=0.4.1->tensorboard~=2.5->Tensorflow) (3.1.1)\n",
      "Requirement already satisfied: pyasn1>=0.1.3 in c:\\anaconda\\lib\\site-packages (from rsa<5,>=3.1.4; python_version >= \"3.6\"->google-auth<2,>=1.6.3->tensorboard~=2.5->Tensorflow) (0.4.8)\n"
     ]
    }
   ],
   "source": [
    "! pip install keras \n",
    "! pip install Tensorflow"
   ]
  },
  {
   "cell_type": "code",
   "execution_count": 1,
   "metadata": {},
   "outputs": [],
   "source": [
    "from keras.layers import Dense, Activation, BatchNormalization, Dropout\n",
    "from keras import optimizers\n",
    "from keras.models import Sequential\n",
    "import tensorflow as tf"
   ]
  },
  {
   "cell_type": "code",
   "execution_count": 5,
   "metadata": {},
   "outputs": [],
   "source": [
    "# Start building a simple neural network\n",
    "n_cols = x_train.shape[1]\n",
    "model_1 = Sequential()\n",
    "model_1.add(Dense(10, activation = 'relu', input_shape = (n_cols,)))\n",
    "model_1.add(Dense(10, activation = 'relu')) #Have tried different units and found 10 having the best performance.\n",
    "model_1.add(Dense(1))\n",
    "model_1.compile(optimizer = 'adam', loss = 'categorical_crossentropy', metrics = ['accuracy'])"
   ]
  },
  {
   "cell_type": "code",
   "execution_count": 105,
   "metadata": {
    "scrolled": true
   },
   "outputs": [
    {
     "name": "stdout",
     "output_type": "stream",
     "text": [
      "Epoch 1/5\n",
      "1407/1407 [==============================] - 7s 5ms/step - loss: 6.5857e-09 - accuracy: 0.9245 - val_loss: 7.0175e-09 - val_accuracy: 0.9186\n",
      "Epoch 2/5\n",
      "1407/1407 [==============================] - 6s 5ms/step - loss: 6.5857e-09 - accuracy: 0.9245 - val_loss: 7.0175e-09 - val_accuracy: 0.9186\n",
      "Epoch 3/5\n",
      "1407/1407 [==============================] - 7s 5ms/step - loss: 6.5857e-09 - accuracy: 0.9245 - val_loss: 7.0175e-09 - val_accuracy: 0.9186\n",
      "Epoch 4/5\n",
      "1407/1407 [==============================] - 6s 5ms/step - loss: 6.5857e-09 - accuracy: 0.9245 - val_loss: 7.0175e-09 - val_accuracy: 0.9186\n",
      "Epoch 5/5\n",
      "1407/1407 [==============================] - 7s 5ms/step - loss: 6.5857e-09 - accuracy: 0.9245 - val_loss: 7.0175e-09 - val_accuracy: 0.9186\n"
     ]
    },
    {
     "data": {
      "text/plain": [
       "<keras.callbacks.History at 0x21c0068f1f0>"
      ]
     },
     "execution_count": 105,
     "metadata": {},
     "output_type": "execute_result"
    }
   ],
   "source": [
    "model_1.fit(x_train,y_train,epochs=5,validation_data = (x_test,y_test))"
   ]
  },
  {
   "cell_type": "code",
   "execution_count": 6,
   "metadata": {},
   "outputs": [],
   "source": [
    "#A function to build different neural network with other slightly different architectures.\n",
    "def build_neural_network_model(neuron=10,n_hidden_layers=1,lr=0.01):\n",
    "    model = Sequential()\n",
    "    model.add(Dense(neuron,activation = 'relu', input_shape = (n_cols,)))\n",
    "    for _ in range(n_hidden_layers):\n",
    "        model.add(Dense(neuron,activation = 'relu'))\n",
    "    model.add(Dense(1))\n",
    "    optimizer = optimizers.SGD(lr)\n",
    "    model.compile(loss = tf.keras.losses.BinaryCrossentropy(from_logits = True), optimizer = optimizer, metrics = ['accuracy'])\n",
    "    return model"
   ]
  },
  {
   "cell_type": "code",
   "execution_count": 108,
   "metadata": {},
   "outputs": [
    {
     "name": "stdout",
     "output_type": "stream",
     "text": [
      "Epoch 1/10\n",
      "1407/1407 [==============================] - 7s 5ms/step - loss: 5387.3637 - accuracy: 0.9351 - val_loss: 0.2379 - val_accuracy: 0.9411\n",
      "Epoch 2/10\n",
      "1407/1407 [==============================] - 6s 4ms/step - loss: 0.2229 - accuracy: 0.9454 - val_loss: 0.2253 - val_accuracy: 0.9411\n",
      "Epoch 3/10\n",
      "1407/1407 [==============================] - 7s 5ms/step - loss: 0.2178 - accuracy: 0.9438 - val_loss: 0.2239 - val_accuracy: 0.9411\n",
      "Epoch 4/10\n",
      "1407/1407 [==============================] - 7s 5ms/step - loss: 0.2122 - accuracy: 0.9454 - val_loss: 0.2238 - val_accuracy: 0.9411\n",
      "Epoch 5/10\n",
      "1407/1407 [==============================] - 6s 4ms/step - loss: 0.2152 - accuracy: 0.9442 - val_loss: 0.2239 - val_accuracy: 0.9411\n",
      "Epoch 6/10\n",
      "1407/1407 [==============================] - 6s 4ms/step - loss: 0.2100 - accuracy: 0.9461 - val_loss: 0.2239 - val_accuracy: 0.9411\n",
      "Epoch 7/10\n",
      "1407/1407 [==============================] - 6s 5ms/step - loss: 0.2066 - accuracy: 0.9473 - val_loss: 0.2239 - val_accuracy: 0.9411\n",
      "Epoch 8/10\n",
      "1407/1407 [==============================] - 6s 5ms/step - loss: 0.2212 - accuracy: 0.9421 - val_loss: 0.2240 - val_accuracy: 0.9411\n",
      "Epoch 9/10\n",
      "1407/1407 [==============================] - 6s 5ms/step - loss: 0.2143 - accuracy: 0.9445 - val_loss: 0.2240 - val_accuracy: 0.9411\n",
      "Epoch 10/10\n",
      "1407/1407 [==============================] - 6s 5ms/step - loss: 0.2163 - accuracy: 0.9438 - val_loss: 0.2240 - val_accuracy: 0.9411\n"
     ]
    },
    {
     "data": {
      "text/plain": [
       "<keras.callbacks.History at 0x21c0a2cff70>"
      ]
     },
     "execution_count": 108,
     "metadata": {},
     "output_type": "execute_result"
    }
   ],
   "source": [
    "model_2 = build_neural_network_model()\n",
    "model_2.fit(x_train,y_train,epochs=10,validation_data = (x_test,y_test))"
   ]
  },
  {
   "cell_type": "code",
   "execution_count": 7,
   "metadata": {
    "scrolled": false
   },
   "outputs": [
    {
     "name": "stdout",
     "output_type": "stream",
     "text": [
      "Epoch 1/10\n",
      "1407/1407 [==============================] - 21s 6ms/step - loss: 23184080572287.9375 - accuracy: 0.9336 - val_loss: 0.2375 - val_accuracy: 0.9411\n",
      "Epoch 2/10\n",
      "1407/1407 [==============================] - 8s 6ms/step - loss: 0.2239 - accuracy: 0.9449 - val_loss: 0.2252 - val_accuracy: 0.9411\n",
      "Epoch 3/10\n",
      "1407/1407 [==============================] - 8s 6ms/step - loss: 0.2140 - accuracy: 0.9452 - val_loss: 0.2239 - val_accuracy: 0.9411\n",
      "Epoch 4/10\n",
      "1407/1407 [==============================] - 9s 6ms/step - loss: 0.2151 - accuracy: 0.9443 - val_loss: 0.2238 - val_accuracy: 0.9411\n",
      "Epoch 5/10\n",
      "1407/1407 [==============================] - 8s 6ms/step - loss: 0.2149 - accuracy: 0.9443 - val_loss: 0.2239 - val_accuracy: 0.9411\n",
      "Epoch 6/10\n",
      "1407/1407 [==============================] - 8s 6ms/step - loss: 0.2162 - accuracy: 0.9439 - val_loss: 0.2239 - val_accuracy: 0.9411\n",
      "Epoch 7/10\n",
      "1407/1407 [==============================] - 8s 6ms/step - loss: 0.2147 - accuracy: 0.9444 - val_loss: 0.2239 - val_accuracy: 0.9411\n",
      "Epoch 8/10\n",
      "1407/1407 [==============================] - 9s 6ms/step - loss: 0.2100 - accuracy: 0.9461 - val_loss: 0.2240 - val_accuracy: 0.9411\n",
      "Epoch 9/10\n",
      "1407/1407 [==============================] - 8s 6ms/step - loss: 0.2187 - accuracy: 0.9430 - val_loss: 0.2240 - val_accuracy: 0.9411\n",
      "Epoch 10/10\n",
      "1407/1407 [==============================] - 8s 6ms/step - loss: 0.2133 - accuracy: 0.9449 - val_loss: 0.2240 - val_accuracy: 0.9411\n"
     ]
    },
    {
     "data": {
      "text/plain": [
       "<keras.callbacks.History at 0x2180508d3d0>"
      ]
     },
     "execution_count": 7,
     "metadata": {},
     "output_type": "execute_result"
    }
   ],
   "source": [
    "#Try to increase model capacity by adding one more hidden layer\n",
    "model_3 = build_neural_network_model(n_hidden_layers=5,neuron = 15)\n",
    "model_3.fit(x_train,y_train,epochs=10,validation_data = (x_test,y_test))"
   ]
  },
  {
   "cell_type": "code",
   "execution_count": 101,
   "metadata": {},
   "outputs": [
    {
     "name": "stdout",
     "output_type": "stream",
     "text": [
      "469/469 [==============================] - 1s 3ms/step - loss: 0.2253 - accuracy: 0.9411\n"
     ]
    },
    {
     "data": {
      "text/plain": [
       "[0.22527170181274414, 0.9411333203315735]"
      ]
     },
     "execution_count": 101,
     "metadata": {},
     "output_type": "execute_result"
    }
   ],
   "source": [
    "model_3.evaluate(x_test,y_test)"
   ]
  },
  {
   "cell_type": "code",
   "execution_count": 16,
   "metadata": {},
   "outputs": [
    {
     "name": "stdout",
     "output_type": "stream",
     "text": [
      "Model: \"sequential_1\"\n",
      "_________________________________________________________________\n",
      "Layer (type)                 Output Shape              Param #   \n",
      "=================================================================\n",
      "dense_3 (Dense)              (None, 15)                165       \n",
      "_________________________________________________________________\n",
      "dense_4 (Dense)              (None, 15)                240       \n",
      "_________________________________________________________________\n",
      "dense_5 (Dense)              (None, 15)                240       \n",
      "_________________________________________________________________\n",
      "dense_6 (Dense)              (None, 15)                240       \n",
      "_________________________________________________________________\n",
      "dense_7 (Dense)              (None, 15)                240       \n",
      "_________________________________________________________________\n",
      "dense_8 (Dense)              (None, 15)                240       \n",
      "_________________________________________________________________\n",
      "dense_9 (Dense)              (None, 1)                 16        \n",
      "=================================================================\n",
      "Total params: 1,381\n",
      "Trainable params: 1,381\n",
      "Non-trainable params: 0\n",
      "_________________________________________________________________\n"
     ]
    }
   ],
   "source": [
    "model_3.summary()"
   ]
  },
  {
   "cell_type": "code",
   "execution_count": 106,
   "metadata": {},
   "outputs": [
    {
     "name": "stdout",
     "output_type": "stream",
     "text": [
      "Epoch 1/10\n",
      "1407/1407 [==============================] - 7s 4ms/step - loss: 9.6788 - accuracy: 0.9253 - val_loss: 0.3067 - val_accuracy: 0.9399\n",
      "Epoch 2/10\n",
      "1407/1407 [==============================] - 6s 4ms/step - loss: 0.2713 - accuracy: 0.9438 - val_loss: 0.7551 - val_accuracy: 0.9287\n",
      "Epoch 3/10\n",
      "1407/1407 [==============================] - 6s 4ms/step - loss: 0.2596 - accuracy: 0.9442 - val_loss: 0.2691 - val_accuracy: 0.9411\n",
      "Epoch 4/10\n",
      "1407/1407 [==============================] - 6s 4ms/step - loss: 0.2495 - accuracy: 0.9454 - val_loss: 0.2705 - val_accuracy: 0.9411\n",
      "Epoch 5/10\n",
      "1407/1407 [==============================] - 7s 5ms/step - loss: 0.2553 - accuracy: 0.9447 - val_loss: 0.2664 - val_accuracy: 0.9411\n",
      "Epoch 6/10\n",
      "1407/1407 [==============================] - 8s 5ms/step - loss: 0.2507 - accuracy: 0.9453 - val_loss: 0.2663 - val_accuracy: 0.9411\n",
      "Epoch 7/10\n",
      "1407/1407 [==============================] - 6s 4ms/step - loss: 0.2493 - accuracy: 0.9454 - val_loss: 0.2665 - val_accuracy: 0.9411\n",
      "Epoch 8/10\n",
      "1407/1407 [==============================] - 6s 4ms/step - loss: 0.2510 - accuracy: 0.9448 - val_loss: 0.2647 - val_accuracy: 0.9411\n",
      "Epoch 9/10\n",
      "1407/1407 [==============================] - 6s 4ms/step - loss: 0.2442 - accuracy: 0.9462 - val_loss: 0.2645 - val_accuracy: 0.9411\n",
      "Epoch 10/10\n",
      "1407/1407 [==============================] - 6s 4ms/step - loss: 0.2513 - accuracy: 0.9437 - val_loss: 0.2639 - val_accuracy: 0.9411\n"
     ]
    },
    {
     "data": {
      "text/plain": [
       "<keras.callbacks.History at 0x21c04e25e20>"
      ]
     },
     "execution_count": 106,
     "metadata": {},
     "output_type": "execute_result"
    }
   ],
   "source": [
    "#Try different learning rate\n",
    "model_4 = build_neural_network_model(lr=0.0001)\n",
    "model_4.fit(x_train,y_train,epochs=10,validation_data = (x_test,y_test))"
   ]
  },
  {
   "cell_type": "code",
   "execution_count": 107,
   "metadata": {},
   "outputs": [
    {
     "name": "stdout",
     "output_type": "stream",
     "text": [
      "Epoch 1/10\n",
      "1407/1407 [==============================] - 7s 4ms/step - loss: 265468821.5798 - accuracy: 0.9401 - val_loss: 0.2248 - val_accuracy: 0.9411\n",
      "Epoch 2/10\n",
      "1407/1407 [==============================] - 6s 4ms/step - loss: 0.2112 - accuracy: 0.9458 - val_loss: 0.2244 - val_accuracy: 0.9411\n",
      "Epoch 3/10\n",
      "1407/1407 [==============================] - 6s 5ms/step - loss: 0.2157 - accuracy: 0.9442 - val_loss: 0.2258 - val_accuracy: 0.9411\n",
      "Epoch 4/10\n",
      "1407/1407 [==============================] - 6s 4ms/step - loss: 0.2092 - accuracy: 0.9465 - val_loss: 0.2254 - val_accuracy: 0.9411\n",
      "Epoch 5/10\n",
      "1407/1407 [==============================] - 6s 4ms/step - loss: 0.2125 - accuracy: 0.9454 - val_loss: 0.2248 - val_accuracy: 0.9411\n",
      "Epoch 6/10\n",
      "1407/1407 [==============================] - 6s 4ms/step - loss: 0.2165 - accuracy: 0.9438 - val_loss: 0.2250 - val_accuracy: 0.9411\n",
      "Epoch 7/10\n",
      "1407/1407 [==============================] - 6s 5ms/step - loss: 0.2090 - accuracy: 0.9465 - val_loss: 0.2241 - val_accuracy: 0.9411\n",
      "Epoch 8/10\n",
      "1407/1407 [==============================] - 6s 4ms/step - loss: 0.2140 - accuracy: 0.9447 - val_loss: 0.2238 - val_accuracy: 0.9411\n",
      "Epoch 9/10\n",
      "1407/1407 [==============================] - 6s 4ms/step - loss: 0.2123 - accuracy: 0.9454 - val_loss: 0.2239 - val_accuracy: 0.9411\n",
      "Epoch 10/10\n",
      "1407/1407 [==============================] - 7s 5ms/step - loss: 0.2163 - accuracy: 0.9440 - val_loss: 0.2243 - val_accuracy: 0.9411\n"
     ]
    },
    {
     "data": {
      "text/plain": [
       "<keras.callbacks.History at 0x21c066e6cd0>"
      ]
     },
     "execution_count": 107,
     "metadata": {},
     "output_type": "execute_result"
    }
   ],
   "source": [
    "#Try different learning rate\n",
    "model_5 = build_neural_network_model(lr=1)\n",
    "model_5.fit(x_train,y_train,epochs=10,validation_data = (x_test,y_test))"
   ]
  },
  {
   "cell_type": "code",
   "execution_count": 114,
   "metadata": {
    "scrolled": true
   },
   "outputs": [
    {
     "name": "stdout",
     "output_type": "stream",
     "text": [
      "Epoch 1/20\n",
      "1407/1407 [==============================] - 9s 6ms/step - loss: 183554842.9631 - accuracy: 0.9327 - val_loss: 0.2380 - val_accuracy: 0.9411\n",
      "Epoch 2/20\n",
      "1407/1407 [==============================] - 8s 6ms/step - loss: 0.2283 - accuracy: 0.9431 - val_loss: 0.2252 - val_accuracy: 0.9411\n",
      "Epoch 3/20\n",
      "1407/1407 [==============================] - 8s 6ms/step - loss: 0.2177 - accuracy: 0.9438 - val_loss: 0.2239 - val_accuracy: 0.9411\n",
      "Epoch 4/20\n",
      "1407/1407 [==============================] - 8s 6ms/step - loss: 0.2174 - accuracy: 0.9435 - val_loss: 0.2238 - val_accuracy: 0.9411\n",
      "Epoch 5/20\n",
      "1407/1407 [==============================] - 8s 6ms/step - loss: 0.2139 - accuracy: 0.9447 - val_loss: 0.2239 - val_accuracy: 0.9411\n",
      "Epoch 6/20\n",
      "1407/1407 [==============================] - 8s 6ms/step - loss: 0.2118 - accuracy: 0.9454 - val_loss: 0.2239 - val_accuracy: 0.9411\n",
      "Epoch 7/20\n",
      "1407/1407 [==============================] - 8s 6ms/step - loss: 0.2132 - accuracy: 0.9449 - val_loss: 0.2239 - val_accuracy: 0.9411\n",
      "Epoch 8/20\n",
      "1407/1407 [==============================] - 8s 6ms/step - loss: 0.2119 - accuracy: 0.9454 - val_loss: 0.2239 - val_accuracy: 0.9411\n",
      "Epoch 9/20\n",
      "1407/1407 [==============================] - 8s 6ms/step - loss: 0.2182 - accuracy: 0.9432 - val_loss: 0.2240 - val_accuracy: 0.9411\n",
      "Epoch 10/20\n",
      "1407/1407 [==============================] - 8s 6ms/step - loss: 0.2118 - accuracy: 0.9454 - val_loss: 0.2240 - val_accuracy: 0.9411\n",
      "Epoch 11/20\n",
      "1407/1407 [==============================] - 8s 6ms/step - loss: 0.2107 - accuracy: 0.9458 - val_loss: 0.2239 - val_accuracy: 0.9411\n",
      "Epoch 12/20\n",
      "1407/1407 [==============================] - 8s 6ms/step - loss: 0.2124 - accuracy: 0.9452 - val_loss: 0.2239 - val_accuracy: 0.9411\n",
      "Epoch 13/20\n",
      "1407/1407 [==============================] - 8s 6ms/step - loss: 0.2103 - accuracy: 0.9459 - val_loss: 0.2239 - val_accuracy: 0.9411\n",
      "Epoch 14/20\n",
      "1407/1407 [==============================] - 9s 7ms/step - loss: 0.2158 - accuracy: 0.9440 - val_loss: 0.2240 - val_accuracy: 0.9411\n",
      "Epoch 15/20\n",
      "1407/1407 [==============================] - 9s 6ms/step - loss: 0.2142 - accuracy: 0.9446 - val_loss: 0.2240 - val_accuracy: 0.9411\n",
      "Epoch 16/20\n",
      "1407/1407 [==============================] - 8s 6ms/step - loss: 0.2113 - accuracy: 0.9456 - val_loss: 0.2240 - val_accuracy: 0.9411\n",
      "Epoch 17/20\n",
      "1407/1407 [==============================] - 8s 6ms/step - loss: 0.2134 - accuracy: 0.9449 - val_loss: 0.2240 - val_accuracy: 0.9411\n",
      "Epoch 18/20\n",
      "1407/1407 [==============================] - 8s 6ms/step - loss: 0.2165 - accuracy: 0.9438 - val_loss: 0.2240 - val_accuracy: 0.9411\n",
      "Epoch 19/20\n",
      "1407/1407 [==============================] - 8s 6ms/step - loss: 0.2142 - accuracy: 0.9446 - val_loss: 0.2240 - val_accuracy: 0.9411\n",
      "Epoch 20/20\n",
      "1407/1407 [==============================] - 8s 6ms/step - loss: 0.2147 - accuracy: 0.9444 - val_loss: 0.2240 - val_accuracy: 0.9411\n"
     ]
    }
   ],
   "source": [
    "#It seems that the validation accuracy can not get improved and kept in the 0.9411 level, so we choose the model with smallest validation loss value which is model_3\n",
    "#Now we try to visualize the result of our best model, model_3\n",
    "model_3 = build_neural_network_model(n_hidden_layers=5,neuron = 15)\n",
    "history = model_3.fit(x_train,y_train,epochs=20,validation_data = (x_test,y_test))"
   ]
  },
  {
   "cell_type": "code",
   "execution_count": 115,
   "metadata": {},
   "outputs": [
    {
     "data": {
      "image/png": "[encoded data removed]",
      "text/plain": [
       "<Figure size 432x288 with 1 Axes>"
      ]
     },
     "metadata": {
      "needs_background": "light"
     },
     "output_type": "display_data"
    }
   ],
   "source": [
    "from matplotlib import pyplot as plt\n",
    "plt.plot(history.history['accuracy'])\n",
    "plt.plot(history.history['val_accuracy'])\n",
    "plt.title('model accuracy')\n",
    "plt.ylabel('accuracy')\n",
    "plt.xlabel('epoch')\n",
    "plt.legend(['Train','Cross-Validation'],loc='upper left')\n",
    "plt.show()"
   ]
  },
  {
   "cell_type": "code",
   "execution_count": 116,
   "metadata": {},
   "outputs": [
    {
     "data": {
      "image/png": "[encoded data removed]",
      "text/plain": [
       "<Figure size 432x288 with 1 Axes>"
      ]
     },
     "metadata": {
      "needs_background": "light"
     },
     "output_type": "display_data"
    }
   ],
   "source": [
    "plt.plot(history.history['loss'])\n",
    "plt.plot(history.history['val_loss'])\n",
    "plt.title('model loss')\n",
    "plt.ylabel('loss')\n",
    "plt.xlabel('epoch')\n",
    "plt.legend(['Train','Cross-Validation'],loc='upper left')\n",
    "plt.show()"
   ]
  },
  {
   "cell_type": "code",
   "execution_count": 17,
   "metadata": {},
   "outputs": [],
   "source": [
    "# Try other neural networks"
   ]
  },
  {
   "cell_type": "code",
   "execution_count": 18,
   "metadata": {},
   "outputs": [],
   "source": [
    "import pprint\n",
    "\n",
    "%matplotlib inline\n",
    "import matplotlib.pyplot as plt\n",
    "from mpl_toolkits.axes_grid1 import make_axes_locatable\n",
    "\n",
    "import numpy as np\n",
    "import tensorflow as tf\n",
    "import tensorflow_datasets as tfds\n",
    "\n",
    "import tensorflow_recommenders as tfrs"
   ]
  },
  {
   "cell_type": "code",
   "execution_count": 19,
   "metadata": {},
   "outputs": [],
   "source": [
    "num_train = 90000\n",
    "train_x = x[:num_train]\n",
    "train_y = y[:num_train]\n",
    "eval_x = x[num_train:]\n",
    "eval_y = y[num_train:]"
   ]
  },
  {
   "cell_type": "code",
   "execution_count": 20,
   "metadata": {},
   "outputs": [],
   "source": [
    "class Model(tfrs.Model):\n",
    "\n",
    "  def __init__(self, model):\n",
    "    super().__init__()\n",
    "    self._model = model\n",
    "    self._logit_layer = tf.keras.layers.Dense(1)\n",
    "\n",
    "    self.task = tfrs.tasks.Ranking(\n",
    "      loss=tf.keras.losses.MeanSquaredError(),\n",
    "      metrics=[\n",
    "        tf.keras.metrics.RootMeanSquaredError(\"RMSE\")\n",
    "      ]\n",
    "    )\n",
    "\n",
    "  def call(self, x):\n",
    "    x = self._model(x)\n",
    "    return self._logit_layer(x)\n",
    "\n",
    "  def compute_loss(self, features, training=False):\n",
    "    x, labels = features\n",
    "    scores = self(x)\n",
    "\n",
    "    return self.task(\n",
    "        labels=labels,\n",
    "        predictions=scores,\n",
    "    )"
   ]
  },
  {
   "cell_type": "code",
   "execution_count": 21,
   "metadata": {},
   "outputs": [],
   "source": [
    "crossnet = Model(tfrs.layers.dcn.Cross())\n",
    "deepnet = Model(\n",
    "    tf.keras.Sequential([\n",
    "      tf.keras.layers.Dense(512, activation=\"relu\"),\n",
    "      tf.keras.layers.Dense(256, activation=\"relu\"),\n",
    "      tf.keras.layers.Dense(128, activation=\"relu\")\n",
    "    ])\n",
    ")"
   ]
  },
  {
   "cell_type": "code",
   "execution_count": 22,
   "metadata": {},
   "outputs": [],
   "source": [
    "train_data = tf.data.Dataset.from_tensor_slices((train_x, train_y)).batch(1000)\n",
    "eval_data = tf.data.Dataset.from_tensor_slices((eval_x, eval_y)).batch(1000)"
   ]
  },
  {
   "cell_type": "code",
   "execution_count": 23,
   "metadata": {},
   "outputs": [],
   "source": [
    "epochs = 100\n",
    "learning_rate = 0.4"
   ]
  },
  {
   "cell_type": "code",
   "execution_count": 24,
   "metadata": {},
   "outputs": [
    {
     "data": {
      "text/plain": [
       "<tensorflow.python.keras.callbacks.History at 0x2194f1b7e20>"
      ]
     },
     "execution_count": 24,
     "metadata": {},
     "output_type": "execute_result"
    }
   ],
   "source": [
    "crossnet.compile(optimizer=tf.keras.optimizers.Adagrad(learning_rate))\n",
    "crossnet.fit(train_data, epochs=epochs, verbose=False)"
   ]
  },
  {
   "cell_type": "code",
   "execution_count": 25,
   "metadata": {},
   "outputs": [],
   "source": [
    "crossnet_result = crossnet.evaluate(eval_data, return_dict=True, verbose=False)"
   ]
  },
  {
   "cell_type": "code",
   "execution_count": 26,
   "metadata": {},
   "outputs": [
    {
     "data": {
      "text/plain": [
       "<tensorflow.python.keras.callbacks.History at 0x21955622310>"
      ]
     },
     "execution_count": 26,
     "metadata": {},
     "output_type": "execute_result"
    }
   ],
   "source": [
    "deepnet.compile(optimizer=tf.keras.optimizers.Adagrad(learning_rate))\n",
    "deepnet.fit(train_data, epochs=epochs, verbose=False)"
   ]
  },
  {
   "cell_type": "code",
   "execution_count": 27,
   "metadata": {},
   "outputs": [],
   "source": [
    "deepnet_result = deepnet.evaluate(eval_data, return_dict=True, verbose=False)"
   ]
  },
  {
   "cell_type": "code",
   "execution_count": 28,
   "metadata": {},
   "outputs": [
    {
     "name": "stderr",
     "output_type": "stream",
     "text": [
      "<ipython-input-28-8436e642fbfc>:11: UserWarning: FixedFormatter should only be used together with FixedLocator\n",
      "  _ = ax.set_xticklabels([''] + features, rotation=45, fontsize=10)\n",
      "<ipython-input-28-8436e642fbfc>:12: UserWarning: FixedFormatter should only be used together with FixedLocator\n",
      "  _ = ax.set_yticklabels([''] + features, fontsize=10)\n"
     ]
    },
    {
     "data": {
      "text/plain": [
       "<Figure size 648x648 with 0 Axes>"
      ]
     },
     "metadata": {},
     "output_type": "display_data"
    },
    {
     "data": {
      "image/png": "[encoded data removed]",
      "text/plain": [
       "<Figure size 288x288 with 2 Axes>"
      ]
     },
     "metadata": {
      "needs_background": "light"
     },
     "output_type": "display_data"
    }
   ],
   "source": [
    "mat = crossnet._model._dense.kernel\n",
    "features = [\"country\", \"purchased_bananas\", \"purchased_cookbooks\"]\n",
    "\n",
    "plt.figure(figsize=(9,9))\n",
    "im = plt.matshow(np.abs(mat.numpy()), cmap=plt.cm.Blues)\n",
    "ax = plt.gca()\n",
    "divider = make_axes_locatable(plt.gca())\n",
    "cax = divider.append_axes(\"right\", size=\"5%\", pad=0.05)\n",
    "plt.colorbar(im, cax=cax)\n",
    "cax.tick_params(labelsize=10) \n",
    "_ = ax.set_xticklabels([''] + features, rotation=45, fontsize=10)\n",
    "_ = ax.set_yticklabels([''] + features, fontsize=10)"
   ]
  }
 ],
 "metadata": {
  "kernelspec": {
   "display_name": "Python 3",
   "language": "python",
   "name": "python3"
  },
  "language_info": {
   "codemirror_mode": {
    "name": "ipython",
    "version": 3
   },
   "file_extension": ".py",
   "mimetype": "text/x-python",
   "name": "python",
   "nbconvert_exporter": "python",
   "pygments_lexer": "ipython3",
   "version": "3.8.5"
  }
 },
 "nbformat": 4,
 "nbformat_minor": 4
}
